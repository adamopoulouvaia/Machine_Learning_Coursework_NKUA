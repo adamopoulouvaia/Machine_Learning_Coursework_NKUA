{
  "nbformat": 4,
  "nbformat_minor": 0,
  "metadata": {
    "kernelspec": {
      "display_name": "Python 3",
      "language": "python",
      "name": "python3"
    },
    "language_info": {
      "codemirror_mode": {
        "name": "ipython",
        "version": 3
      },
      "file_extension": ".py",
      "mimetype": "text/x-python",
      "name": "python",
      "nbconvert_exporter": "python",
      "pygments_lexer": "ipython3",
      "version": "3.7.5"
    },
    "colab": {
      "name": "MachineLearningCoursework_Adamopoulou.ipynb",
      "provenance": []
    }
  },
  "cells": [
    {
      "cell_type": "markdown",
      "metadata": {
        "id": "ZYImLQzMgtyG"
      },
      "source": [
        "### 1. Vector and Matrices (10 points)\n",
        "\n"
      ]
    },
    {
      "cell_type": "code",
      "metadata": {
        "id": "yV9RMdD0gtyI"
      },
      "source": [
        "# loading my libraries for the necessary calclulations \n",
        "\n",
        "import numpy as np\n",
        "from numpy import random"
      ],
      "execution_count": null,
      "outputs": []
    },
    {
      "cell_type": "markdown",
      "metadata": {
        "id": "Ib6NDJSRgtyI"
      },
      "source": [
        "###### 1.1 Generating two random integer matrices "
      ]
    },
    {
      "cell_type": "code",
      "metadata": {
        "id": "MFAhwFYAgtyJ",
        "outputId": "c18e84c5-fd81-4e1c-df47-365692f179b0"
      },
      "source": [
        "# setting the seed to be the last digit of my student number to get consistent random results.\n",
        "\n",
        "np.random.seed(1) \n",
        "\n",
        "# generating random integer matrix X with 3x4 dimensions\n",
        "\n",
        "X = np.random.randint(10, size=(3, 4))\n",
        "print(X)"
      ],
      "execution_count": null,
      "outputs": [
        {
          "name": "stdout",
          "output_type": "stream",
          "text": [
            "[[5 8 9 5]\n",
            " [0 0 1 7]\n",
            " [6 9 2 4]]\n"
          ]
        }
      ]
    },
    {
      "cell_type": "code",
      "metadata": {
        "id": "8kunw3mJgtyJ",
        "outputId": "ea2c60f4-66dd-4044-f346-fb80fe01bd10"
      },
      "source": [
        "# generating random integer matrix Y with 4x3 dimensions\n",
        "\n",
        "Y = np.random.randint(10, size=(4,3))\n",
        "print(Y)"
      ],
      "execution_count": null,
      "outputs": [
        {
          "name": "stdout",
          "output_type": "stream",
          "text": [
            "[[5 2 4]\n",
            " [2 4 7]\n",
            " [7 9 1]\n",
            " [7 0 6]]\n"
          ]
        }
      ]
    },
    {
      "cell_type": "markdown",
      "metadata": {
        "id": "P5S53k7LgtyK"
      },
      "source": [
        "##### 1.2 Generating two random integer vectors"
      ]
    },
    {
      "cell_type": "code",
      "metadata": {
        "id": "YNDtXUx0gtyK",
        "outputId": "8a82f107-c821-4891-fab0-c5d482aba0cc"
      },
      "source": [
        "# generating vector g with 4 elements\n",
        "\n",
        "g = np.random.randint(10, size=(4))\n",
        "print(g)"
      ],
      "execution_count": null,
      "outputs": [
        {
          "name": "stdout",
          "output_type": "stream",
          "text": [
            "[9 9 7 6]\n"
          ]
        }
      ]
    },
    {
      "cell_type": "code",
      "metadata": {
        "id": "DSmmtYSigtyK",
        "outputId": "df100271-fe23-4385-b1bb-20bd874b0f29"
      },
      "source": [
        "# generating vector z with 4 elements\n",
        "\n",
        "z = np.random.randint(10, size=(4))\n",
        "print(z)"
      ],
      "execution_count": null,
      "outputs": [
        {
          "name": "stdout",
          "output_type": "stream",
          "text": [
            "[9 1 0 1]\n"
          ]
        }
      ]
    },
    {
      "cell_type": "markdown",
      "metadata": {
        "id": "Fk872Rn-gtyL"
      },
      "source": [
        "##### For this task, you will also find the solutions to the questions asked implemented by hand in \"Handwritten_notes_Adamopoulou'.pdf file. For the following tasks, I used numpy functions for the calculations of the questions asked. \n",
        "\n",
        "_Tasks were completed using material from class, as well as material found in the official NumPy Documentation website https://numpy.org/doc/stable/reference/generated/numpy.dot.html_"
      ]
    },
    {
      "cell_type": "code",
      "metadata": {
        "id": "9uMy1XPVgtyL",
        "outputId": "bdeeb2a3-a21e-414f-b37d-6ff87bfc7664"
      },
      "source": [
        "# computing the inner product of g and z\n",
        "\n",
        "np.inner(g, z)"
      ],
      "execution_count": null,
      "outputs": [
        {
          "data": {
            "text/plain": [
              "96"
            ]
          },
          "execution_count": 6,
          "metadata": {},
          "output_type": "execute_result"
        }
      ]
    },
    {
      "cell_type": "code",
      "metadata": {
        "id": "RmtJLTMhgtyL",
        "outputId": "0a2cb9ac-4b3f-4af3-fa1f-f14c2926a454"
      },
      "source": [
        "# computing the matrix-vector product Xg\n",
        "\n",
        "np.dot(X,g,out=None)"
      ],
      "execution_count": null,
      "outputs": [
        {
          "data": {
            "text/plain": [
              "array([210,  49, 173])"
            ]
          },
          "execution_count": 7,
          "metadata": {},
          "output_type": "execute_result"
        }
      ]
    },
    {
      "cell_type": "code",
      "metadata": {
        "id": "ajLUP5NcgtyM",
        "outputId": "1f7710e7-1432-4fc9-81cd-b5b42c452cc9"
      },
      "source": [
        "# computing the matrix-dot product XY\n",
        "\n",
        "np.matmul(X,Y)"
      ],
      "execution_count": null,
      "outputs": [
        {
          "data": {
            "text/plain": [
              "array([[139, 123, 115],\n",
              "       [ 56,   9,  43],\n",
              "       [ 90,  66, 113]])"
            ]
          },
          "execution_count": 8,
          "metadata": {},
          "output_type": "execute_result"
        }
      ]
    },
    {
      "cell_type": "code",
      "metadata": {
        "id": "t53GkUkqgtyM",
        "outputId": "9aed9fe3-20ba-4a8c-eebe-ba54ea3880a0"
      },
      "source": [
        "# trying a second way to calculate the matrix product\n",
        "\n",
        "np.dot(X,Y) "
      ],
      "execution_count": null,
      "outputs": [
        {
          "data": {
            "text/plain": [
              "array([[139, 123, 115],\n",
              "       [ 56,   9,  43],\n",
              "       [ 90,  66, 113]])"
            ]
          },
          "execution_count": 9,
          "metadata": {},
          "output_type": "execute_result"
        }
      ]
    },
    {
      "cell_type": "code",
      "metadata": {
        "id": "FZQgunZKgtyM"
      },
      "source": [
        "# importing the linalg submodule for calculating the Frobenius norms of vectors and matrices \n",
        "\n",
        "from numpy import linalg as LA"
      ],
      "execution_count": null,
      "outputs": []
    },
    {
      "cell_type": "code",
      "metadata": {
        "id": "pu9Rv4BQgtyM",
        "outputId": "dd38b0ce-f45b-4da2-abc2-ebba2d998612"
      },
      "source": [
        "# computing l2 / Frobenius norm of vector g\n",
        "\n",
        "LA.norm(g)"
      ],
      "execution_count": null,
      "outputs": [
        {
          "data": {
            "text/plain": [
              "15.716233645501712"
            ]
          },
          "execution_count": 11,
          "metadata": {},
          "output_type": "execute_result"
        }
      ]
    },
    {
      "cell_type": "code",
      "metadata": {
        "id": "b0vimn1XgtyM",
        "outputId": "a08b15be-5a95-453a-d2db-805e454fe3e8"
      },
      "source": [
        "# computing l2 / Frobenius norm of vector z\n",
        "\n",
        "LA.norm(z)"
      ],
      "execution_count": null,
      "outputs": [
        {
          "data": {
            "text/plain": [
              "9.1104335791443"
            ]
          },
          "execution_count": 12,
          "metadata": {},
          "output_type": "execute_result"
        }
      ]
    },
    {
      "cell_type": "code",
      "metadata": {
        "id": "VCIdspzfgtyN",
        "outputId": "488bdbe0-f923-48ce-fe9e-08d8b2f49f9b"
      },
      "source": [
        "# computing l2 / Frobenius norm of matrix X\n",
        "\n",
        "LA.norm(X)"
      ],
      "execution_count": null,
      "outputs": [
        {
          "data": {
            "text/plain": [
              "19.544820285692065"
            ]
          },
          "execution_count": 13,
          "metadata": {},
          "output_type": "execute_result"
        }
      ]
    },
    {
      "cell_type": "code",
      "metadata": {
        "id": "dcKsYcmJgtyN",
        "outputId": "ad5a3aa3-039f-43e0-e1cc-c82a23b33467"
      },
      "source": [
        "# computing l2 / Frobenius norm of matrix X\n",
        "\n",
        "LA.norm(Y)"
      ],
      "execution_count": null,
      "outputs": [
        {
          "data": {
            "text/plain": [
              "18.16590212458495"
            ]
          },
          "execution_count": 14,
          "metadata": {},
          "output_type": "execute_result"
        }
      ]
    },
    {
      "cell_type": "markdown",
      "metadata": {
        "id": "DOY79_1PgtyN"
      },
      "source": [
        "### 2. Gradient Computation\n",
        "\n",
        "##### Computations by hand to this two-part task will be found in 'Handwritten_notes_Adamopoulou.pdf' file. "
      ]
    },
    {
      "cell_type": "markdown",
      "metadata": {
        "id": "rHBamnstgtyN"
      },
      "source": [
        "### 3. Linear Regression \n",
        "\n",
        "##### 3.1 Computations by hand to the first task will be found in 'Handwritten_notes_Adamopoulou.pdf' file. "
      ]
    },
    {
      "cell_type": "markdown",
      "metadata": {
        "id": "_Sq5KigBgtyN"
      },
      "source": [
        "#### 3.2 Implementation"
      ]
    },
    {
      "cell_type": "code",
      "metadata": {
        "id": "NNAygmQpgtyN"
      },
      "source": [
        "# loading libraries \n",
        "\n",
        "import os\n",
        "import numpy as np\n",
        "import matplotlib.pyplot as plt\n",
        "import pandas as pd\n",
        "from sklearn import datasets, metrics, linear_model\n",
        "from sklearn.linear_model import LinearRegression\n",
        "from sklearn.model_selection import train_test_split \n",
        "from sklearn.metrics import mean_squared_error\n",
        "import math\n",
        "import seaborn as sns"
      ],
      "execution_count": null,
      "outputs": []
    },
    {
      "cell_type": "code",
      "metadata": {
        "id": "UV5eFq3PgtyN",
        "outputId": "45f2c75f-83d7-46e6-8262-c77464de5672"
      },
      "source": [
        "# importing the HousingData dataset using Pandas\n",
        "\n",
        "filename = \"HousingData.csv\"\n",
        "data = pd.read_csv(filename)\n",
        "\n",
        "# many NA values in the dataset, which we do not need\n",
        "# removing missing values using Pandas dropna() function\n",
        "\n",
        "data.dropna(axis=0, how='any', inplace=True)\n",
        "\n",
        "# using head() function to get the first 5 rows of the dataset (5 by default)\n",
        "\n",
        "data.head()"
      ],
      "execution_count": null,
      "outputs": [
        {
          "data": {
            "text/html": [
              "<div>\n",
              "<style scoped>\n",
              "    .dataframe tbody tr th:only-of-type {\n",
              "        vertical-align: middle;\n",
              "    }\n",
              "\n",
              "    .dataframe tbody tr th {\n",
              "        vertical-align: top;\n",
              "    }\n",
              "\n",
              "    .dataframe thead th {\n",
              "        text-align: right;\n",
              "    }\n",
              "</style>\n",
              "<table border=\"1\" class=\"dataframe\">\n",
              "  <thead>\n",
              "    <tr style=\"text-align: right;\">\n",
              "      <th></th>\n",
              "      <th>CRIM</th>\n",
              "      <th>ZN</th>\n",
              "      <th>INDUS</th>\n",
              "      <th>CHAS</th>\n",
              "      <th>NOX</th>\n",
              "      <th>RM</th>\n",
              "      <th>AGE</th>\n",
              "      <th>DIS</th>\n",
              "      <th>RAD</th>\n",
              "      <th>TAX</th>\n",
              "      <th>PTRATIO</th>\n",
              "      <th>B</th>\n",
              "      <th>LSTAT</th>\n",
              "      <th>MEDV</th>\n",
              "    </tr>\n",
              "  </thead>\n",
              "  <tbody>\n",
              "    <tr>\n",
              "      <th>0</th>\n",
              "      <td>0.00632</td>\n",
              "      <td>18.0</td>\n",
              "      <td>2.31</td>\n",
              "      <td>0.0</td>\n",
              "      <td>0.538</td>\n",
              "      <td>6.575</td>\n",
              "      <td>65.2</td>\n",
              "      <td>4.0900</td>\n",
              "      <td>1</td>\n",
              "      <td>296</td>\n",
              "      <td>15.3</td>\n",
              "      <td>396.90</td>\n",
              "      <td>4.98</td>\n",
              "      <td>24.0</td>\n",
              "    </tr>\n",
              "    <tr>\n",
              "      <th>1</th>\n",
              "      <td>0.02731</td>\n",
              "      <td>0.0</td>\n",
              "      <td>7.07</td>\n",
              "      <td>0.0</td>\n",
              "      <td>0.469</td>\n",
              "      <td>6.421</td>\n",
              "      <td>78.9</td>\n",
              "      <td>4.9671</td>\n",
              "      <td>2</td>\n",
              "      <td>242</td>\n",
              "      <td>17.8</td>\n",
              "      <td>396.90</td>\n",
              "      <td>9.14</td>\n",
              "      <td>21.6</td>\n",
              "    </tr>\n",
              "    <tr>\n",
              "      <th>2</th>\n",
              "      <td>0.02729</td>\n",
              "      <td>0.0</td>\n",
              "      <td>7.07</td>\n",
              "      <td>0.0</td>\n",
              "      <td>0.469</td>\n",
              "      <td>7.185</td>\n",
              "      <td>61.1</td>\n",
              "      <td>4.9671</td>\n",
              "      <td>2</td>\n",
              "      <td>242</td>\n",
              "      <td>17.8</td>\n",
              "      <td>392.83</td>\n",
              "      <td>4.03</td>\n",
              "      <td>34.7</td>\n",
              "    </tr>\n",
              "    <tr>\n",
              "      <th>3</th>\n",
              "      <td>0.03237</td>\n",
              "      <td>0.0</td>\n",
              "      <td>2.18</td>\n",
              "      <td>0.0</td>\n",
              "      <td>0.458</td>\n",
              "      <td>6.998</td>\n",
              "      <td>45.8</td>\n",
              "      <td>6.0622</td>\n",
              "      <td>3</td>\n",
              "      <td>222</td>\n",
              "      <td>18.7</td>\n",
              "      <td>394.63</td>\n",
              "      <td>2.94</td>\n",
              "      <td>33.4</td>\n",
              "    </tr>\n",
              "    <tr>\n",
              "      <th>5</th>\n",
              "      <td>0.02985</td>\n",
              "      <td>0.0</td>\n",
              "      <td>2.18</td>\n",
              "      <td>0.0</td>\n",
              "      <td>0.458</td>\n",
              "      <td>6.430</td>\n",
              "      <td>58.7</td>\n",
              "      <td>6.0622</td>\n",
              "      <td>3</td>\n",
              "      <td>222</td>\n",
              "      <td>18.7</td>\n",
              "      <td>394.12</td>\n",
              "      <td>5.21</td>\n",
              "      <td>28.7</td>\n",
              "    </tr>\n",
              "  </tbody>\n",
              "</table>\n",
              "</div>"
            ],
            "text/plain": [
              "      CRIM    ZN  INDUS  CHAS    NOX     RM   AGE     DIS  RAD  TAX  PTRATIO  \\\n",
              "0  0.00632  18.0   2.31   0.0  0.538  6.575  65.2  4.0900    1  296     15.3   \n",
              "1  0.02731   0.0   7.07   0.0  0.469  6.421  78.9  4.9671    2  242     17.8   \n",
              "2  0.02729   0.0   7.07   0.0  0.469  7.185  61.1  4.9671    2  242     17.8   \n",
              "3  0.03237   0.0   2.18   0.0  0.458  6.998  45.8  6.0622    3  222     18.7   \n",
              "5  0.02985   0.0   2.18   0.0  0.458  6.430  58.7  6.0622    3  222     18.7   \n",
              "\n",
              "        B  LSTAT  MEDV  \n",
              "0  396.90   4.98  24.0  \n",
              "1  396.90   9.14  21.6  \n",
              "2  392.83   4.03  34.7  \n",
              "3  394.63   2.94  33.4  \n",
              "5  394.12   5.21  28.7  "
            ]
          },
          "execution_count": 16,
          "metadata": {},
          "output_type": "execute_result"
        }
      ]
    },
    {
      "cell_type": "code",
      "metadata": {
        "id": "QtjDLztigtyO"
      },
      "source": [
        "# label y is MEDV, the target variable\n",
        "# X are the features \n",
        "\n",
        "\n",
        "y = data.MEDV\n",
        "X = data.drop('MEDV', axis=1) # dropping labels from column (1)"
      ],
      "execution_count": null,
      "outputs": []
    },
    {
      "cell_type": "markdown",
      "metadata": {
        "id": "NJ7M25XJgtyO"
      },
      "source": [
        "**Note**: The following _plot_data_ function is written for plotting the data. Given that it was requested to use Matplotlib, I tried to utilize all the available documentation. <br> Firstly, I tried to use Multidimensional plots, to depict somehow all features together in relation to the target variable, but with no luck, since I could not understand and implement in written code the related documentation. Also, it was not clear (and it still isn't) if plotting features this way would be possible, or functional. <br> For the completion of this task, I applied **Matplotlib documentation** and generated the following **scatter plots**. Scatter plots are pretty useful when we want to show the relationship between two variables, and also very handy when we're dealing with Linear Regression problems. In this case, I plotted 13 of them, one for every feature in relation to the target variable y. "
      ]
    },
    {
      "cell_type": "code",
      "metadata": {
        "id": "pnYvgDI_gtyO",
        "outputId": "a3b02731-5b9b-42c0-a048-1889f0c2cab8"
      },
      "source": [
        "def plot_data(x,y):\n",
        "    \n",
        "    fig, axes = plt.subplots(nrows=4, ncols=4, figsize=(20,20))\n",
        "    fig.subplots_adjust(hspace=0.5)\n",
        "    fig.suptitle('Distribution of Features/MEDV',fontsize=15)\n",
        "    for ax, feature in zip(axes.flatten(),x.columns):      \n",
        "        ax.scatter(x[feature],y)\n",
        "        ax.set_xlabel(feature, fontsize=14)\n",
        "        ax.set_ylabel('MEDV', fontsize=14)\n",
        "    plt.show()\n",
        "\n",
        "plot_data(X,y)"
      ],
      "execution_count": null,
      "outputs": [
        {
          "data": {
            "image/png": "[encoded data removed]",
            "text/plain": [
              "<Figure size 1440x1440 with 16 Axes>"
            ]
          },
          "metadata": {
            "needs_background": "light"
          },
          "output_type": "display_data"
        }
      ]
    },
    {
      "cell_type": "markdown",
      "metadata": {
        "id": "yg9lym7cgtyO"
      },
      "source": [
        "##### Training the model and evaluating the results"
      ]
    },
    {
      "cell_type": "code",
      "metadata": {
        "id": "ESDmYpsVgtyO"
      },
      "source": [
        "# creating a function for reusing it with different ratios (for Question 3)\n",
        "# variety of ratios will be added later on\n",
        "\n",
        "def lr_model_fit_and_metrics(X_train, X_test, y_train, y_test):\n",
        "    \n",
        "\n",
        "    # fitting the model in the train data\n",
        "    \n",
        "    lr_model = LinearRegression().fit(X_train, y_train)\n",
        "    \n",
        "    # computing the coefficients and the intercept\n",
        "\n",
        "    print('Coefficient is:',lr_model.coef_)\n",
        "    print()\n",
        "    print('Intercept is:',lr_model.intercept_)\n",
        "    print()\n",
        "\n",
        "    # prediction of y_train and y_test using X_train and X_test\n",
        "    \n",
        "    y_train_pred = lr_model.predict(X_train)\n",
        "    y_test_pred = lr_model.predict(X_test)\n",
        "\n",
        "    # calculating RSE (Residual Standard Error) and R-squared (Coefficient of determination) for train data\n",
        "    # calculating MSE too (necessary to proceed with RSE calculation)\n",
        "    \n",
        "    train_mse = mean_squared_error(y_train,y_train_pred)\n",
        "    train_rse = math.sqrt(train_mse/(X_train.shape[0]-2))\n",
        "    train_rsquare = lr_model.score(X_train,y_train)\n",
        "\n",
        "    print(f\"Train RSE is: {train_rse}.\")\n",
        "    print(f\"Train R-squared is: {train_rsquare}.\")\n",
        "    print()\n",
        "\n",
        "    # calculating RSE and R^2 for test data\n",
        "    # calculating MSE too (necessary to proceed with RSE calculation)\n",
        "\n",
        "    test_mse = mean_squared_error(y_test,y_test_pred)\n",
        "    test_rse = math.sqrt(train_mse/(X_test.shape[0]-2))\n",
        "    test_rsquare = lr_model.score(X_test,y_test)\n",
        "\n",
        "    print(f\"Test RSE is: {test_rse}.\")\n",
        "    print(f\"Test R-squared is: {test_rsquare}.\")    "
      ],
      "execution_count": null,
      "outputs": []
    },
    {
      "cell_type": "markdown",
      "metadata": {
        "id": "nJfxO97NgtyO"
      },
      "source": [
        "##### Testing the model using different ratios "
      ]
    },
    {
      "cell_type": "code",
      "metadata": {
        "id": "UICR7G-ugtyO",
        "outputId": "baac89c1-c502-4fac-f7c7-aa2669ad799d"
      },
      "source": [
        "# splitting X and y into train and test data accordingly - using as ratio 10% test, 90% training\n",
        "\n",
        "X_train, X_test, y_train, y_test = train_test_split(X, y,test_size=0.1, random_state=1)\n",
        "\n",
        "lr_model_fit_and_metrics(X_train, X_test, y_train, y_test)"
      ],
      "execution_count": null,
      "outputs": [
        {
          "name": "stdout",
          "output_type": "stream",
          "text": [
            "Coefficient is: [-1.00802469e-01  4.56363552e-02  1.83004925e-02  3.06748422e+00\n",
            " -1.97826950e+01  3.73408843e+00 -5.96591600e-03 -1.48820149e+00\n",
            "  2.68680412e-01 -1.05604742e-02 -8.85672663e-01  9.27815032e-03\n",
            " -4.78087339e-01]\n",
            "\n",
            "Intercept is: 36.28852118500974\n",
            "\n",
            "Train RSE is: 0.23482045033050336.\n",
            "Train R-squared is: 0.7554653871821428.\n",
            "\n",
            "Test RSE is: 0.7146862883826791.\n",
            "Test R-squared is: 0.8211172201509973.\n"
          ]
        }
      ]
    },
    {
      "cell_type": "code",
      "metadata": {
        "id": "ObKTaqCZgtyO",
        "outputId": "36d503a2-24ab-423a-cc9c-3e01a68ba0f9"
      },
      "source": [
        "# splitting X and y into train and test data accordingly - using as ratio 20% test\n",
        "X_train, X_test, y_train, y_test = train_test_split(X, y,test_size=0.2, random_state=1)\n",
        "\n",
        "lr_model_fit_and_metrics(X_train, X_test, y_train, y_test)"
      ],
      "execution_count": null,
      "outputs": [
        {
          "name": "stdout",
          "output_type": "stream",
          "text": [
            "Coefficient is: [-9.53012946e-02  3.89290987e-02  2.33917058e-02  3.81829596e+00\n",
            " -1.80701819e+01  3.85244133e+00 -8.22120380e-03 -1.43303959e+00\n",
            "  2.37177980e-01 -9.59284468e-03 -8.43337846e-01  7.68163477e-03\n",
            " -5.22587434e-01]\n",
            "\n",
            "Intercept is: 34.78089496283873\n",
            "\n",
            "Train RSE is: 0.2534171547527284.\n",
            "Train R-squared is: 0.7545891471058722.\n",
            "\n",
            "Test RSE is: 0.5109316624329339.\n",
            "Test R-squared is: 0.7942508981292821.\n"
          ]
        }
      ]
    },
    {
      "cell_type": "code",
      "metadata": {
        "id": "5BXmImyngtyP",
        "outputId": "74c935ec-e32c-4a13-d4a2-3ae4c0e0f97b"
      },
      "source": [
        "# splitting X and y into train and test data accordingly - using as ratio 30% test\n",
        "X_train, X_test, y_train, y_test = train_test_split(X, y,test_size=0.3, random_state=1)\n",
        "\n",
        "lr_model_fit_and_metrics(X_train, X_test, y_train, y_test)"
      ],
      "execution_count": null,
      "outputs": [
        {
          "name": "stdout",
          "output_type": "stream",
          "text": [
            "Coefficient is: [-3.58636228e-02  3.24829498e-02  1.33493183e-02  3.40461874e+00\n",
            " -1.48111830e+01  4.22920221e+00 -5.62155714e-03 -1.33656374e+00\n",
            "  2.50294586e-01 -1.10515925e-02 -8.41858855e-01  1.12437919e-02\n",
            " -5.64539136e-01]\n",
            "\n",
            "Intercept is: 29.744975249353413\n",
            "\n",
            "Train RSE is: 0.2683876978487488.\n",
            "Train R-squared is: 0.7668573443271657.\n",
            "\n",
            "Test RSE is: 0.4099689803289426.\n",
            "Test R-squared is: 0.735751699930767.\n"
          ]
        }
      ]
    },
    {
      "cell_type": "markdown",
      "metadata": {
        "id": "7Use5SCXgtyP"
      },
      "source": [
        "#### Discussion on evaluation: \n",
        "\n",
        "For the task above, I used different ratios to test the model and check the results. In general, the model seemed to give better results when 10% test & 90% training ratio was used. <br> Before commenting on the results I got, I'd like to note down what I have understood from the whole theory behind these values; RSE and R-squared. **RSE**(Residual Standard Error)  is the  deviation between the predicted outcome and the true regression line. Trying to visualize it, I imagine a typical graph (a scatter plot and the regression line). The shorter the distance between the \"values\" and the regression line, the better our model is. So, the RSE is the sum of the total distances squared (to get positive result). <br> Regarding **R-squared**, interpreting it was much easier. It takes a value between 0 and 1, and the general idea is that an R-squared closer to 0 is not a good indicator, whereas a value closer to 1 indicates that the model is well- generalized and the better the model fits the data. <br> Back to the results from my own task, I got a good test R-squared (0.8211172201509973) and the train R-squared was also pretty close to it (0.7554653871821428), meaning that my model was generalized good enough.<br> I noticed when I changed the ratios, the results did change too. My test R-squared for example showed a cathodic movement, probably meaning that using more test data (e.g. 20% Test Data), did not give so good predictions. <br> Finally, there are some specific points I could not really interpret (for example, why my train RSE and the test RSE are inversely proportional, when changing the ratios). I understand that these two results refer to two different things; the train RSE shows the deviation with the data I already used to train the model, whereas the test RSE result is determined by new data, but I still cannot understand the inversed proportion. "
      ]
    },
    {
      "cell_type": "markdown",
      "metadata": {
        "id": "ZJgSRtXcgtyP"
      },
      "source": [
        "### Bonus Exercise\n",
        "\n",
        "I tried to make my model even better, by observing the data in the plots above. With a quick look someone can understand that CRIM and CHAS are scattered in a way, that if you imagine the regression line passing through the plot, the values are so far away from the line. Other data seem to be more useful to our purpose, for example RM or LSTAT, which are scattered in a way that they remind us of a line. <br> For this reason, I decided to omit CRIM and CHAS, just to observe if my model will give me better results (better than 1st effort with 10% ratio where R-squared was 0.8211172201509973). <br> Below, as you can see, I indeed got a better outcome, an R-squared value even closer to 1 (0.822950243245742). <br> Consequently, by omitting data that were not really helpful led to a better fit and better results. "
      ]
    },
    {
      "cell_type": "code",
      "metadata": {
        "id": "ZIw5lY_4gtyP",
        "outputId": "de2837b9-732e-4430-f61b-3f2b387e743f"
      },
      "source": [
        "filename = \"HousingData.csv\"\n",
        "\n",
        "data = pd.read_csv(filename)\n",
        "\n",
        "data.dropna(axis=0, how='any', inplace=True)\n",
        "\n",
        "data = data.drop(['CRIM','CHAS'], axis=1)\n",
        "\n",
        "data.head()"
      ],
      "execution_count": null,
      "outputs": [
        {
          "data": {
            "text/html": [
              "<div>\n",
              "<style scoped>\n",
              "    .dataframe tbody tr th:only-of-type {\n",
              "        vertical-align: middle;\n",
              "    }\n",
              "\n",
              "    .dataframe tbody tr th {\n",
              "        vertical-align: top;\n",
              "    }\n",
              "\n",
              "    .dataframe thead th {\n",
              "        text-align: right;\n",
              "    }\n",
              "</style>\n",
              "<table border=\"1\" class=\"dataframe\">\n",
              "  <thead>\n",
              "    <tr style=\"text-align: right;\">\n",
              "      <th></th>\n",
              "      <th>ZN</th>\n",
              "      <th>INDUS</th>\n",
              "      <th>NOX</th>\n",
              "      <th>RM</th>\n",
              "      <th>AGE</th>\n",
              "      <th>DIS</th>\n",
              "      <th>RAD</th>\n",
              "      <th>TAX</th>\n",
              "      <th>PTRATIO</th>\n",
              "      <th>B</th>\n",
              "      <th>LSTAT</th>\n",
              "      <th>MEDV</th>\n",
              "    </tr>\n",
              "  </thead>\n",
              "  <tbody>\n",
              "    <tr>\n",
              "      <th>0</th>\n",
              "      <td>18.0</td>\n",
              "      <td>2.31</td>\n",
              "      <td>0.538</td>\n",
              "      <td>6.575</td>\n",
              "      <td>65.2</td>\n",
              "      <td>4.0900</td>\n",
              "      <td>1</td>\n",
              "      <td>296</td>\n",
              "      <td>15.3</td>\n",
              "      <td>396.90</td>\n",
              "      <td>4.98</td>\n",
              "      <td>24.0</td>\n",
              "    </tr>\n",
              "    <tr>\n",
              "      <th>1</th>\n",
              "      <td>0.0</td>\n",
              "      <td>7.07</td>\n",
              "      <td>0.469</td>\n",
              "      <td>6.421</td>\n",
              "      <td>78.9</td>\n",
              "      <td>4.9671</td>\n",
              "      <td>2</td>\n",
              "      <td>242</td>\n",
              "      <td>17.8</td>\n",
              "      <td>396.90</td>\n",
              "      <td>9.14</td>\n",
              "      <td>21.6</td>\n",
              "    </tr>\n",
              "    <tr>\n",
              "      <th>2</th>\n",
              "      <td>0.0</td>\n",
              "      <td>7.07</td>\n",
              "      <td>0.469</td>\n",
              "      <td>7.185</td>\n",
              "      <td>61.1</td>\n",
              "      <td>4.9671</td>\n",
              "      <td>2</td>\n",
              "      <td>242</td>\n",
              "      <td>17.8</td>\n",
              "      <td>392.83</td>\n",
              "      <td>4.03</td>\n",
              "      <td>34.7</td>\n",
              "    </tr>\n",
              "    <tr>\n",
              "      <th>3</th>\n",
              "      <td>0.0</td>\n",
              "      <td>2.18</td>\n",
              "      <td>0.458</td>\n",
              "      <td>6.998</td>\n",
              "      <td>45.8</td>\n",
              "      <td>6.0622</td>\n",
              "      <td>3</td>\n",
              "      <td>222</td>\n",
              "      <td>18.7</td>\n",
              "      <td>394.63</td>\n",
              "      <td>2.94</td>\n",
              "      <td>33.4</td>\n",
              "    </tr>\n",
              "    <tr>\n",
              "      <th>5</th>\n",
              "      <td>0.0</td>\n",
              "      <td>2.18</td>\n",
              "      <td>0.458</td>\n",
              "      <td>6.430</td>\n",
              "      <td>58.7</td>\n",
              "      <td>6.0622</td>\n",
              "      <td>3</td>\n",
              "      <td>222</td>\n",
              "      <td>18.7</td>\n",
              "      <td>394.12</td>\n",
              "      <td>5.21</td>\n",
              "      <td>28.7</td>\n",
              "    </tr>\n",
              "  </tbody>\n",
              "</table>\n",
              "</div>"
            ],
            "text/plain": [
              "     ZN  INDUS    NOX     RM   AGE     DIS  RAD  TAX  PTRATIO       B  LSTAT  \\\n",
              "0  18.0   2.31  0.538  6.575  65.2  4.0900    1  296     15.3  396.90   4.98   \n",
              "1   0.0   7.07  0.469  6.421  78.9  4.9671    2  242     17.8  396.90   9.14   \n",
              "2   0.0   7.07  0.469  7.185  61.1  4.9671    2  242     17.8  392.83   4.03   \n",
              "3   0.0   2.18  0.458  6.998  45.8  6.0622    3  222     18.7  394.63   2.94   \n",
              "5   0.0   2.18  0.458  6.430  58.7  6.0622    3  222     18.7  394.12   5.21   \n",
              "\n",
              "   MEDV  \n",
              "0  24.0  \n",
              "1  21.6  \n",
              "2  34.7  \n",
              "3  33.4  \n",
              "5  28.7  "
            ]
          },
          "execution_count": 23,
          "metadata": {},
          "output_type": "execute_result"
        }
      ]
    },
    {
      "cell_type": "code",
      "metadata": {
        "id": "4chNP4iRgtyP"
      },
      "source": [
        "y = data.MEDV\n",
        "X = data.drop('MEDV', axis=1)"
      ],
      "execution_count": null,
      "outputs": []
    },
    {
      "cell_type": "code",
      "metadata": {
        "id": "1tJPHYU4gtyP",
        "outputId": "72b7bd73-21a6-4eaf-9bab-03d5df3d5494"
      },
      "source": [
        "X_train, X_test, y_train, y_test = train_test_split(X, y,test_size=0.1, random_state=1)\n",
        "\n",
        "lr_model_fit_and_metrics(X_train, X_test, y_train, y_test)"
      ],
      "execution_count": null,
      "outputs": [
        {
          "name": "stdout",
          "output_type": "stream",
          "text": [
            "Coefficient is: [ 4.13788846e-02  4.10553123e-02 -1.84322370e+01  3.88325810e+00\n",
            " -5.56043287e-03 -1.42679657e+00  2.31414324e-01 -1.16616497e-02\n",
            " -9.12285541e-01  1.15066100e-02 -5.03727310e-01]\n",
            "\n",
            "Intercept is: 34.78531991785865\n",
            "\n",
            "Train RSE is: 0.24148266387602735.\n",
            "Train R-squared is: 0.741392912456922.\n",
            "\n",
            "Test RSE is: 0.7349630260542142.\n",
            "Test R-squared is: 0.822950243245742.\n"
          ]
        }
      ]
    },
    {
      "cell_type": "code",
      "metadata": {
        "id": "8_0BL6WBgtyP"
      },
      "source": [
        ""
      ],
      "execution_count": null,
      "outputs": []
    }
  ]
}